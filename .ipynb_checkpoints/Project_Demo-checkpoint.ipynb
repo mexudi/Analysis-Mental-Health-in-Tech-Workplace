{
 "cells": [
  {
   "cell_type": "markdown",
   "id": "f0f0f7f8",
   "metadata": {},
   "source": [
    "# Mental Health in Tech Workplace using ML Techniques"
   ]
  },
  {
   "cell_type": "markdown",
   "id": "e4802fcd",
   "metadata": {},
   "source": [
    "## Dataset Description"
   ]
  },
  {
   "cell_type": "markdown",
   "id": "184ad1cf",
   "metadata": {},
   "source": [
    "The dataset is called \"Mental Health in Tech Survey\" and it is a single CSV file that can be \n",
    "found on the Kaggle website. Open Sourcing Mental Illness, LTD acquired this dataset in \n",
    "2014 and made it available as open source. The collection comprises data from several \n",
    "nations and regions on attitudes toward mental health and the frequency of mental health \n",
    "issues in the IT sector.\n",
    "Link to the dataset: https://www.kaggle.com/datasets/osmi/mental-health-in-tech-survey"
   ]
  },
  {
   "cell_type": "code",
   "execution_count": 1,
   "id": "7958e641",
   "metadata": {},
   "outputs": [],
   "source": [
    "import pandas as pd"
   ]
  },
  {
   "cell_type": "code",
   "execution_count": 2,
   "id": "c95810fd",
   "metadata": {},
   "outputs": [],
   "source": [
    "df = pd.read_csv('survey.csv')"
   ]
  },
  {
   "cell_type": "markdown",
   "id": "154b3561",
   "metadata": {},
   "source": [
    "## Overview about the Dataset"
   ]
  },
  {
   "cell_type": "markdown",
   "id": "5d56f03c",
   "metadata": {},
   "source": [
    "Before start wokring on our dataset, we need firsrt to understand it.\n",
    "### Columns"
   ]
  },
  {
   "cell_type": "code",
   "execution_count": 3,
   "id": "cfa531da",
   "metadata": {},
   "outputs": [
    {
     "name": "stdout",
     "output_type": "stream",
     "text": [
      "<class 'pandas.core.frame.DataFrame'>\n",
      "RangeIndex: 1259 entries, 0 to 1258\n",
      "Data columns (total 27 columns):\n",
      " #   Column                     Non-Null Count  Dtype \n",
      "---  ------                     --------------  ----- \n",
      " 0   Timestamp                  1259 non-null   object\n",
      " 1   Age                        1259 non-null   int64 \n",
      " 2   Gender                     1259 non-null   object\n",
      " 3   Country                    1259 non-null   object\n",
      " 4   state                      744 non-null    object\n",
      " 5   self_employed              1241 non-null   object\n",
      " 6   family_history             1259 non-null   object\n",
      " 7   treatment                  1259 non-null   object\n",
      " 8   work_interfere             995 non-null    object\n",
      " 9   no_employees               1259 non-null   object\n",
      " 10  remote_work                1259 non-null   object\n",
      " 11  tech_company               1259 non-null   object\n",
      " 12  benefits                   1259 non-null   object\n",
      " 13  care_options               1259 non-null   object\n",
      " 14  wellness_program           1259 non-null   object\n",
      " 15  seek_help                  1259 non-null   object\n",
      " 16  anonymity                  1259 non-null   object\n",
      " 17  leave                      1259 non-null   object\n",
      " 18  mental_health_consequence  1259 non-null   object\n",
      " 19  phys_health_consequence    1259 non-null   object\n",
      " 20  coworkers                  1259 non-null   object\n",
      " 21  supervisor                 1259 non-null   object\n",
      " 22  mental_health_interview    1259 non-null   object\n",
      " 23  phys_health_interview      1259 non-null   object\n",
      " 24  mental_vs_physical         1259 non-null   object\n",
      " 25  obs_consequence            1259 non-null   object\n",
      " 26  comments                   164 non-null    object\n",
      "dtypes: int64(1), object(26)\n",
      "memory usage: 265.7+ KB\n"
     ]
    }
   ],
   "source": [
    "df.info()"
   ]
  },
  {
   "cell_type": "markdown",
   "id": "4e6d847a",
   "metadata": {},
   "source": [
    "Our dataset contains 27 columns. Only the 'Age' column is an integer data type, other columns are object data type. Here is a description of each one of them.\n",
    "\n",
    "Timestamp\n",
    "\n",
    "Age\n",
    "\n",
    "Gender\n",
    "\n",
    "Country\n",
    "\n",
    "state: If you live in the United States, which state or territory do you live in?\n",
    "\n",
    "self_employed: Are you self-employed?\n",
    "\n",
    "family_history: Do you have a family history of mental illness?\n",
    "\n",
    "treatment: Have you sought treatment for a mental health condition?\n",
    "\n",
    "work_interfere: If you have a mental health condition, do you feel that it interferes with your work?\n",
    "\n",
    "no_employees: How many employees does your company or organization have?\n",
    "\n",
    "remote_work: Do you work remotely (outside of an office) at least 50% of the time?\n",
    "\n",
    "tech_company: Is your employer primarily a tech company/organization?\n",
    "\n",
    "benefits: Does your employer provide mental health benefits?\n",
    "\n",
    "care_options: Do you know the options for mental health care your employer provides?\n",
    "\n",
    "wellness_program: Has your employer ever discussed mental health as part of an employee wellness program?\n",
    "\n",
    "seek_help: Does your employer provide resources to learn more about mental health issues and how to seek help?\n",
    "\n",
    "anonymity: Is your anonymity protected if you choose to take advantage of mental health or substance abuse treatment resources?\n",
    "\n",
    "leave: How easy is it for you to take medical leave for a mental health condition?\n",
    "\n",
    "mentalhealthconsequence: Do you think that discussing a mental health issue with your employer would have negative consequences?\n",
    "\n",
    "physhealthconsequence: Do you think that discussing a physical health issue with your employer would have negative consequences?\n",
    "\n",
    "coworkers: Would you be willing to discuss a mental health issue with your coworkers?\n",
    "\n",
    "supervisor: Would you be willing to discuss a mental health issue with your direct supervisor(s)?\n",
    "\n",
    "mentalhealthinterview: Would you bring up a mental health issue with a potential employer in an interview?\n",
    "\n",
    "physhealthinterview: Would you bring up a physical health issue with a potential employer in an interview?\n",
    "\n",
    "mentalvsphysical: Do you feel that your employer takes mental health as seriously as physical health?\n",
    "\n",
    "obs_consequence: Have you heard of or observed negative consequences for coworkers with mental health conditions in your workplace?\n",
    "\n",
    "comments: Any additional notes or comments"
   ]
  },
  {
   "cell_type": "markdown",
   "id": "01b5e656",
   "metadata": {},
   "source": [
    "### Rows\n",
    "Here is an overview about the number of rows in our dataset. In this case, it is the number of people who are working on tech industry, and they were very kind to share their personal information concerning their mental and physical health. Thanks to them, we will be able to contribute to this open source project."
   ]
  },
  {
   "cell_type": "code",
   "execution_count": 4,
   "id": "8f84d938",
   "metadata": {},
   "outputs": [
    {
     "data": {
      "text/plain": [
       "1259"
      ]
     },
     "execution_count": 4,
     "metadata": {},
     "output_type": "execute_result"
    }
   ],
   "source": [
    "len(df)"
   ]
  },
  {
   "cell_type": "markdown",
   "id": "e1fa2215",
   "metadata": {},
   "source": [
    "### Country Column Overviewl\n",
    "\n",
    "#### Data geographic distribution\n",
    "We looked at the data and discovered that the bulk of respondents were from the United States and the United Kingdom (have more than 100 respondents)."
   ]
  },
  {
   "cell_type": "code",
   "execution_count": 5,
   "id": "ef3d6f74",
   "metadata": {},
   "outputs": [
    {
     "data": {
      "text/plain": [
       "array(['United States', 'Canada', 'United Kingdom', 'Bulgaria', 'France',\n",
       "       'Portugal', 'Netherlands', 'Switzerland', 'Poland', 'Australia',\n",
       "       'Germany', 'Russia', 'Mexico', 'Brazil', 'Slovenia', 'Costa Rica',\n",
       "       'Austria', 'Ireland', 'India', 'South Africa', 'Italy', 'Sweden',\n",
       "       'Colombia', 'Latvia', 'Romania', 'Belgium', 'New Zealand',\n",
       "       'Zimbabwe', 'Spain', 'Finland', 'Uruguay', 'Israel',\n",
       "       'Bosnia and Herzegovina', 'Hungary', 'Singapore', 'Japan',\n",
       "       'Nigeria', 'Croatia', 'Norway', 'Thailand', 'Denmark',\n",
       "       'Bahamas, The', 'Greece', 'Moldova', 'Georgia', 'China',\n",
       "       'Czech Republic', 'Philippines'], dtype=object)"
      ]
     },
     "execution_count": 5,
     "metadata": {},
     "output_type": "execute_result"
    }
   ],
   "source": [
    "df['Country'].unique()"
   ]
  },
  {
   "cell_type": "code",
   "execution_count": 6,
   "id": "8b128082",
   "metadata": {},
   "outputs": [
    {
     "data": {
      "text/plain": [
       "United States             751\n",
       "United Kingdom            185\n",
       "Canada                     72\n",
       "Germany                    45\n",
       "Ireland                    27\n",
       "Netherlands                27\n",
       "Australia                  21\n",
       "France                     13\n",
       "India                      10\n",
       "New Zealand                 8\n",
       "Poland                      7\n",
       "Switzerland                 7\n",
       "Sweden                      7\n",
       "Italy                       7\n",
       "South Africa                6\n",
       "Belgium                     6\n",
       "Brazil                      6\n",
       "Israel                      5\n",
       "Singapore                   4\n",
       "Bulgaria                    4\n",
       "Austria                     3\n",
       "Finland                     3\n",
       "Mexico                      3\n",
       "Russia                      3\n",
       "Denmark                     2\n",
       "Greece                      2\n",
       "Colombia                    2\n",
       "Croatia                     2\n",
       "Portugal                    2\n",
       "Moldova                     1\n",
       "Georgia                     1\n",
       "Bahamas, The                1\n",
       "China                       1\n",
       "Thailand                    1\n",
       "Czech Republic              1\n",
       "Norway                      1\n",
       "Romania                     1\n",
       "Nigeria                     1\n",
       "Japan                       1\n",
       "Hungary                     1\n",
       "Bosnia and Herzegovina      1\n",
       "Uruguay                     1\n",
       "Spain                       1\n",
       "Zimbabwe                    1\n",
       "Latvia                      1\n",
       "Costa Rica                  1\n",
       "Slovenia                    1\n",
       "Philippines                 1\n",
       "Name: Country, dtype: int64"
      ]
     },
     "execution_count": 6,
     "metadata": {},
     "output_type": "execute_result"
    }
   ],
   "source": [
    "df['Country'].value_counts()"
   ]
  },
  {
   "cell_type": "code",
   "execution_count": 7,
   "id": "ed991229",
   "metadata": {},
   "outputs": [
    {
     "data": {
      "text/plain": [
       "United States             59.65\n",
       "United Kingdom            14.69\n",
       "Canada                     5.72\n",
       "Germany                    3.57\n",
       "Ireland                    2.14\n",
       "Netherlands                2.14\n",
       "Australia                  1.67\n",
       "France                     1.03\n",
       "India                      0.79\n",
       "New Zealand                0.64\n",
       "Poland                     0.56\n",
       "Switzerland                0.56\n",
       "Sweden                     0.56\n",
       "Italy                      0.56\n",
       "South Africa               0.48\n",
       "Belgium                    0.48\n",
       "Brazil                     0.48\n",
       "Israel                     0.40\n",
       "Singapore                  0.32\n",
       "Bulgaria                   0.32\n",
       "Austria                    0.24\n",
       "Finland                    0.24\n",
       "Mexico                     0.24\n",
       "Russia                     0.24\n",
       "Denmark                    0.16\n",
       "Greece                     0.16\n",
       "Colombia                   0.16\n",
       "Croatia                    0.16\n",
       "Portugal                   0.16\n",
       "Moldova                    0.08\n",
       "Georgia                    0.08\n",
       "Bahamas, The               0.08\n",
       "China                      0.08\n",
       "Thailand                   0.08\n",
       "Czech Republic             0.08\n",
       "Norway                     0.08\n",
       "Romania                    0.08\n",
       "Nigeria                    0.08\n",
       "Japan                      0.08\n",
       "Hungary                    0.08\n",
       "Bosnia and Herzegovina     0.08\n",
       "Uruguay                    0.08\n",
       "Spain                      0.08\n",
       "Zimbabwe                   0.08\n",
       "Latvia                     0.08\n",
       "Costa Rica                 0.08\n",
       "Slovenia                   0.08\n",
       "Philippines                0.08\n",
       "Name: Country, dtype: float64"
      ]
     },
     "execution_count": 7,
     "metadata": {},
     "output_type": "execute_result"
    }
   ],
   "source": [
    "round((df['Country'].value_counts()*100)/(df['Country'].count()),2)"
   ]
  },
  {
   "cell_type": "code",
   "execution_count": 8,
   "id": "a3697a04",
   "metadata": {},
   "outputs": [
    {
     "data": {
      "image/png": "[encoded data removed]",
      "text/plain": [
       "<Figure size 720x720 with 1 Axes>"
      ]
     },
     "metadata": {},
     "output_type": "display_data"
    }
   ],
   "source": [
    "import matplotlib.pyplot as plt\n",
    "%matplotlib inline\n",
    "\n",
    "fig1 = plt.figure(figsize=(10,10))\n",
    "ax1 = fig1.add_axes((0,0,.5,1))\n",
    "labels =  df['Country'].value_counts().index\n",
    "sizes = df['Country'].value_counts()\n",
    "percentages = sizes / 1259 * 100\n",
    "\n",
    "ax1.pie(percentages, labels=labels, autopct='%1.1f%%', shadow=True, startangle=90)\n",
    "ax1.axis('equal')\n",
    "\n",
    "plt.savefig('distributionofsurvey.png')\n",
    "\n",
    "plt.show()\n",
    "\n",
    "plt.close()"
   ]
  },
  {
   "cell_type": "markdown",
   "id": "a7c7eca2",
   "metadata": {},
   "source": [
    "Based on the result, majority of the respondents came from the U.S with nearly 60% of the data. Second highest number of respondents came from the UK. The other countries have very little amount of data be worth for the analysis. Hence, we will use only data that came from the US and UK for this analysis."
   ]
  },
  {
   "cell_type": "code",
   "execution_count": 9,
   "id": "78088d1a",
   "metadata": {},
   "outputs": [
    {
     "data": {
      "text/plain": [
       "United States     751\n",
       "United Kingdom    185\n",
       "Name: Country, dtype: int64"
      ]
     },
     "execution_count": 9,
     "metadata": {},
     "output_type": "execute_result"
    }
   ],
   "source": [
    "# Filtering countries\n",
    "df = df[df['Country'].isin(['United States','United Kingdom'])]\n",
    "df['Country'].value_counts()"
   ]
  },
  {
   "cell_type": "markdown",
   "id": "bb404d05",
   "metadata": {},
   "source": [
    "#### Gender Distribution\n",
    "We noticed that 'Gender' column contains some inconsistency values, which means we can have an insight from this column without cleaning it first. "
   ]
  },
  {
   "cell_type": "code",
   "execution_count": 10,
   "id": "032fbfbe",
   "metadata": {},
   "outputs": [
    {
     "data": {
      "text/plain": [
       "array(['Female', 'M', 'Male', 'female', 'male', 'Male-ish', 'maile',\n",
       "       'Trans-female', 'Cis Female', 'F', 'Cis Male', 'm', 'Woman', 'f',\n",
       "       'Male (CIS)', 'queer/she/they', 'non-binary', 'Femake', 'woman',\n",
       "       'Make', 'Nah', 'Enby', 'Genderqueer', 'Female ', 'Androgyne',\n",
       "       'Agender', 'cis-female/femme', 'Male ', 'Trans woman', 'Man',\n",
       "       'msle', 'Neuter', 'Female (trans)', 'Female (cis)', 'Mail',\n",
       "       'cis male', 'p', 'femail', 'Cis Man',\n",
       "       'ostensibly male, unsure what that really means'], dtype=object)"
      ]
     },
     "execution_count": 10,
     "metadata": {},
     "output_type": "execute_result"
    }
   ],
   "source": [
    "df['Gender'].unique()"
   ]
  },
  {
   "cell_type": "code",
   "execution_count": 11,
   "id": "21d98bba",
   "metadata": {},
   "outputs": [
    {
     "data": {
      "text/plain": [
       "Male                                              462\n",
       "male                                              114\n",
       "M                                                 102\n",
       "Female                                             98\n",
       "female                                             49\n",
       "F                                                  35\n",
       "m                                                  22\n",
       "f                                                  13\n",
       "Make                                                4\n",
       "Woman                                               3\n",
       "Cis Male                                            2\n",
       "Female (trans)                                      2\n",
       "Female                                              2\n",
       "Male                                                2\n",
       "cis male                                            1\n",
       "cis-female/femme                                    1\n",
       "p                                                   1\n",
       "Mail                                                1\n",
       "Female (cis)                                        1\n",
       "Neuter                                              1\n",
       "msle                                                1\n",
       "femail                                              1\n",
       "Cis Man                                             1\n",
       "Man                                                 1\n",
       "Trans woman                                         1\n",
       "Nah                                                 1\n",
       "Agender                                             1\n",
       "Androgyne                                           1\n",
       "Genderqueer                                         1\n",
       "Enby                                                1\n",
       "woman                                               1\n",
       "Femake                                              1\n",
       "non-binary                                          1\n",
       "queer/she/they                                      1\n",
       "Male (CIS)                                          1\n",
       "Cis Female                                          1\n",
       "Trans-female                                        1\n",
       "maile                                               1\n",
       "Male-ish                                            1\n",
       "ostensibly male, unsure what that really means      1\n",
       "Name: Gender, dtype: int64"
      ]
     },
     "execution_count": 11,
     "metadata": {},
     "output_type": "execute_result"
    }
   ],
   "source": [
    "df['Gender'].value_counts()"
   ]
  },
  {
   "cell_type": "markdown",
   "id": "70a6add5",
   "metadata": {},
   "source": [
    "#### Age Distribution\n",
    "While discovering our dataset, we found that the 'Age' column contains out of the range or illogical values. Same as 'Gender' column, 'Age' column also needs some clean up before starting working on it."
   ]
  },
  {
   "cell_type": "code",
   "execution_count": 12,
   "id": "c819938a",
   "metadata": {},
   "outputs": [
    {
     "data": {
      "text/plain": [
       "array([   37,    44,    31,    33,    35,    42,    36,    29,    23,\n",
       "          32,    46,    41,    34,    30,    40,    27,    50,    24,\n",
       "          38,    28,    22,    26,    19,    25,    39,    45,    21,\n",
       "          18,   -29,    43,    56,    60,    54,   329,    55,    48,\n",
       "          57,    58,    47,    62,    65,    49, -1726,     5,    20,\n",
       "          51,    53,    11,    -1,    72], dtype=int64)"
      ]
     },
     "execution_count": 12,
     "metadata": {},
     "output_type": "execute_result"
    }
   ],
   "source": [
    "df['Age'].unique()"
   ]
  },
  {
   "cell_type": "markdown",
   "id": "9bd8ce45",
   "metadata": {},
   "source": [
    "#### Missing Values in the dataset\n",
    "In this part, we were interested to have an insight about the percentage of missing (null) values in our dataset in order to clean it up either by filling those null values or by dropping column. Cleaning up the missing values helps us to avoid data bias."
   ]
  },
  {
   "cell_type": "code",
   "execution_count": 13,
   "id": "039d0e65",
   "metadata": {},
   "outputs": [
    {
     "data": {
      "text/html": [
       "<div>\n",
       "<style scoped>\n",
       "    .dataframe tbody tr th:only-of-type {\n",
       "        vertical-align: middle;\n",
       "    }\n",
       "\n",
       "    .dataframe tbody tr th {\n",
       "        vertical-align: top;\n",
       "    }\n",
       "\n",
       "    .dataframe thead th {\n",
       "        text-align: right;\n",
       "    }\n",
       "</style>\n",
       "<table border=\"1\" class=\"dataframe\">\n",
       "  <thead>\n",
       "    <tr style=\"text-align: right;\">\n",
       "      <th></th>\n",
       "      <th>Total</th>\n",
       "      <th>Percentage</th>\n",
       "    </tr>\n",
       "  </thead>\n",
       "  <tbody>\n",
       "    <tr>\n",
       "      <th>comments</th>\n",
       "      <td>810</td>\n",
       "      <td>86.54</td>\n",
       "    </tr>\n",
       "    <tr>\n",
       "      <th>state</th>\n",
       "      <td>196</td>\n",
       "      <td>20.94</td>\n",
       "    </tr>\n",
       "    <tr>\n",
       "      <th>work_interfere</th>\n",
       "      <td>188</td>\n",
       "      <td>20.09</td>\n",
       "    </tr>\n",
       "    <tr>\n",
       "      <th>self_employed</th>\n",
       "      <td>13</td>\n",
       "      <td>1.39</td>\n",
       "    </tr>\n",
       "    <tr>\n",
       "      <th>seek_help</th>\n",
       "      <td>0</td>\n",
       "      <td>0.00</td>\n",
       "    </tr>\n",
       "    <tr>\n",
       "      <th>obs_consequence</th>\n",
       "      <td>0</td>\n",
       "      <td>0.00</td>\n",
       "    </tr>\n",
       "    <tr>\n",
       "      <th>mental_vs_physical</th>\n",
       "      <td>0</td>\n",
       "      <td>0.00</td>\n",
       "    </tr>\n",
       "    <tr>\n",
       "      <th>phys_health_interview</th>\n",
       "      <td>0</td>\n",
       "      <td>0.00</td>\n",
       "    </tr>\n",
       "    <tr>\n",
       "      <th>mental_health_interview</th>\n",
       "      <td>0</td>\n",
       "      <td>0.00</td>\n",
       "    </tr>\n",
       "    <tr>\n",
       "      <th>supervisor</th>\n",
       "      <td>0</td>\n",
       "      <td>0.00</td>\n",
       "    </tr>\n",
       "    <tr>\n",
       "      <th>coworkers</th>\n",
       "      <td>0</td>\n",
       "      <td>0.00</td>\n",
       "    </tr>\n",
       "    <tr>\n",
       "      <th>phys_health_consequence</th>\n",
       "      <td>0</td>\n",
       "      <td>0.00</td>\n",
       "    </tr>\n",
       "    <tr>\n",
       "      <th>mental_health_consequence</th>\n",
       "      <td>0</td>\n",
       "      <td>0.00</td>\n",
       "    </tr>\n",
       "    <tr>\n",
       "      <th>leave</th>\n",
       "      <td>0</td>\n",
       "      <td>0.00</td>\n",
       "    </tr>\n",
       "    <tr>\n",
       "      <th>anonymity</th>\n",
       "      <td>0</td>\n",
       "      <td>0.00</td>\n",
       "    </tr>\n",
       "    <tr>\n",
       "      <th>Timestamp</th>\n",
       "      <td>0</td>\n",
       "      <td>0.00</td>\n",
       "    </tr>\n",
       "    <tr>\n",
       "      <th>wellness_program</th>\n",
       "      <td>0</td>\n",
       "      <td>0.00</td>\n",
       "    </tr>\n",
       "    <tr>\n",
       "      <th>Age</th>\n",
       "      <td>0</td>\n",
       "      <td>0.00</td>\n",
       "    </tr>\n",
       "    <tr>\n",
       "      <th>benefits</th>\n",
       "      <td>0</td>\n",
       "      <td>0.00</td>\n",
       "    </tr>\n",
       "    <tr>\n",
       "      <th>tech_company</th>\n",
       "      <td>0</td>\n",
       "      <td>0.00</td>\n",
       "    </tr>\n",
       "    <tr>\n",
       "      <th>remote_work</th>\n",
       "      <td>0</td>\n",
       "      <td>0.00</td>\n",
       "    </tr>\n",
       "    <tr>\n",
       "      <th>no_employees</th>\n",
       "      <td>0</td>\n",
       "      <td>0.00</td>\n",
       "    </tr>\n",
       "    <tr>\n",
       "      <th>treatment</th>\n",
       "      <td>0</td>\n",
       "      <td>0.00</td>\n",
       "    </tr>\n",
       "    <tr>\n",
       "      <th>family_history</th>\n",
       "      <td>0</td>\n",
       "      <td>0.00</td>\n",
       "    </tr>\n",
       "    <tr>\n",
       "      <th>Country</th>\n",
       "      <td>0</td>\n",
       "      <td>0.00</td>\n",
       "    </tr>\n",
       "    <tr>\n",
       "      <th>Gender</th>\n",
       "      <td>0</td>\n",
       "      <td>0.00</td>\n",
       "    </tr>\n",
       "    <tr>\n",
       "      <th>care_options</th>\n",
       "      <td>0</td>\n",
       "      <td>0.00</td>\n",
       "    </tr>\n",
       "  </tbody>\n",
       "</table>\n",
       "</div>"
      ],
      "text/plain": [
       "                           Total  Percentage\n",
       "comments                     810       86.54\n",
       "state                        196       20.94\n",
       "work_interfere               188       20.09\n",
       "self_employed                 13        1.39\n",
       "seek_help                      0        0.00\n",
       "obs_consequence                0        0.00\n",
       "mental_vs_physical             0        0.00\n",
       "phys_health_interview          0        0.00\n",
       "mental_health_interview        0        0.00\n",
       "supervisor                     0        0.00\n",
       "coworkers                      0        0.00\n",
       "phys_health_consequence        0        0.00\n",
       "mental_health_consequence      0        0.00\n",
       "leave                          0        0.00\n",
       "anonymity                      0        0.00\n",
       "Timestamp                      0        0.00\n",
       "wellness_program               0        0.00\n",
       "Age                            0        0.00\n",
       "benefits                       0        0.00\n",
       "tech_company                   0        0.00\n",
       "remote_work                    0        0.00\n",
       "no_employees                   0        0.00\n",
       "treatment                      0        0.00\n",
       "family_history                 0        0.00\n",
       "Country                        0        0.00\n",
       "Gender                         0        0.00\n",
       "care_options                   0        0.00"
      ]
     },
     "execution_count": 13,
     "metadata": {},
     "output_type": "execute_result"
    }
   ],
   "source": [
    "total_nulls = df.isnull().sum().sort_values(ascending=False)\n",
    "perc_nulls = round((total_nulls*100)/len(df),2)\n",
    "nulls = pd.concat([total_nulls, perc_nulls], axis=1, keys=['Total','Percentage'])\n",
    "nulls"
   ]
  },
  {
   "cell_type": "markdown",
   "id": "9f7515a3",
   "metadata": {},
   "source": [
    "Based on the observation, we can clearly see that the 'comment' column has a lot of missing data (it is almost 87%). This percentage is normal because the comment section in the survey usually is optional. For this project we can drop this column since it does not contain any useful information for our analysis.\n",
    "The second most missing values are in 'state' column. This column contains data related only to teh United Satate."
   ]
  },
  {
   "cell_type": "markdown",
   "id": "a5fc189b",
   "metadata": {},
   "source": [
    "### Data Cleaning\n",
    "#### Irrelevant Data\n",
    "Dropping columns that do not contribute any useful information to data analysis.\n",
    "There are many columns that do not contribute much to the analysis such Timestap, Comment because it contains a lot of null values, and also state because it is manily related to United State."
   ]
  },
  {
   "cell_type": "code",
   "execution_count": 14,
   "id": "a967706c",
   "metadata": {},
   "outputs": [],
   "source": [
    "df.drop(columns=['Timestamp','comments','state'],inplace=True)"
   ]
  },
  {
   "cell_type": "markdown",
   "id": "6186c011",
   "metadata": {},
   "source": [
    "#### Value out of range\n",
    "There are a couple of illogical values in 'Age' column such as negative values, lower than 16 (in the terms of the law, they are not allowed to work), or higher than 100. We will drop all those illogical value to avoid any bias in our data."
   ]
  },
  {
   "cell_type": "code",
   "execution_count": 15,
   "id": "d73d386f",
   "metadata": {},
   "outputs": [],
   "source": [
    "df = df[(df['Age'] >=16) & (df['Age']<=65)]"
   ]
  },
  {
   "cell_type": "code",
   "execution_count": 16,
   "id": "ba61db1b",
   "metadata": {},
   "outputs": [
    {
     "data": {
      "text/plain": [
       "array([18, 19, 20, 21, 22, 23, 24, 25, 26, 27, 28, 29, 30, 31, 32, 33, 34,\n",
       "       35, 36, 37, 38, 39, 40, 41, 42, 43, 44, 45, 46, 47, 48, 49, 50, 51,\n",
       "       53, 54, 55, 56, 57, 58, 60, 62, 65], dtype=int64)"
      ]
     },
     "execution_count": 16,
     "metadata": {},
     "output_type": "execute_result"
    }
   ],
   "source": [
    "import numpy as np\n",
    "np.sort(df['Age'].unique())"
   ]
  },
  {
   "cell_type": "markdown",
   "id": "77df35f8",
   "metadata": {},
   "source": [
    "#### Inconsistency in input value\n",
    "We noticed there are so many inconsistency in the Gender's input data. We decide to transform anything related to male such as m, mail, M, ect. into lowercase 'male', same to 'female' ,and any other gender identifications are 'other'."
   ]
  },
  {
   "cell_type": "code",
   "execution_count": 17,
   "id": "e52b1466",
   "metadata": {},
   "outputs": [
    {
     "data": {
      "text/plain": [
       "array(['Female', 'M', 'Male', 'female', 'male', 'Male-ish', 'maile',\n",
       "       'Trans-female', 'Cis Female', 'F', 'Cis Male', 'm', 'Woman', 'f',\n",
       "       'Male (CIS)', 'queer/she/they', 'non-binary', 'Femake', 'woman',\n",
       "       'Make', 'Nah', 'Enby', 'Genderqueer', 'Female ', 'Androgyne',\n",
       "       'Agender', 'cis-female/femme', 'Male ', 'Trans woman', 'Man',\n",
       "       'msle', 'Neuter', 'Female (trans)', 'Female (cis)', 'Mail',\n",
       "       'cis male', 'femail', 'Cis Man',\n",
       "       'ostensibly male, unsure what that really means'], dtype=object)"
      ]
     },
     "execution_count": 17,
     "metadata": {},
     "output_type": "execute_result"
    }
   ],
   "source": [
    "#Let have a second look on the 'Gender' column values\n",
    "df.Gender.unique()"
   ]
  },
  {
   "cell_type": "code",
   "execution_count": 18,
   "id": "521afc6d",
   "metadata": {},
   "outputs": [],
   "source": [
    "#First let convert all the values to lowercase\n",
    "df.Gender = df.Gender.str.lower()"
   ]
  },
  {
   "cell_type": "code",
   "execution_count": 19,
   "id": "16a36aec",
   "metadata": {},
   "outputs": [
    {
     "data": {
      "text/plain": [
       "array(['female', 'm', 'male', 'male-ish', 'maile', 'trans-female',\n",
       "       'cis female', 'f', 'cis male', 'woman', 'male (cis)',\n",
       "       'queer/she/they', 'non-binary', 'femake', 'make', 'nah', 'enby',\n",
       "       'genderqueer', 'female ', 'androgyne', 'agender',\n",
       "       'cis-female/femme', 'male ', 'trans woman', 'man', 'msle',\n",
       "       'neuter', 'female (trans)', 'female (cis)', 'mail', 'femail',\n",
       "       'cis man', 'ostensibly male, unsure what that really means'],\n",
       "      dtype=object)"
      ]
     },
     "execution_count": 19,
     "metadata": {},
     "output_type": "execute_result"
    }
   ],
   "source": [
    "df.Gender.unique()"
   ]
  },
  {
   "cell_type": "code",
   "execution_count": 20,
   "id": "62d1e51f",
   "metadata": {},
   "outputs": [],
   "source": [
    "#let create an array that conatins all the values that identify male\n",
    "male = ['male','m','make','male-ish', 'maile', 'cis male','mal','male (cis)','guy (-ish) ^_^','male ','man','msle','mail','malr','cis man']\n",
    "\n",
    "#let create an array that contains all the values that identify female\n",
    "female = ['female','f','woman','cis female','femake','female ', 'cis-female/femme','female (cis)','femail']\n",
    "\n",
    "#Any other answer that does not contain a value in (male, female) we will consider it as other\n",
    "other = ['trans-female','queer/she/they','non-binary','nah', 'all', 'enby', 'fluid', 'genderqueer','androgyne','agender', 'male leaning androgynous','trans woman','neuter','something kinda male?', 'female (trans)', 'queer', 'a little about you','p','ostensibly male, unsure what that really means']\n"
   ]
  },
  {
   "cell_type": "code",
   "execution_count": 21,
   "id": "a97dd44e",
   "metadata": {},
   "outputs": [
    {
     "name": "stderr",
     "output_type": "stream",
     "text": [
      "C:\\Users\\ziana-pc\\AppData\\Local\\Programs\\Python\\Python310\\lib\\site-packages\\pandas\\core\\indexing.py:1732: SettingWithCopyWarning: \n",
      "A value is trying to be set on a copy of a slice from a DataFrame\n",
      "\n",
      "See the caveats in the documentation: https://pandas.pydata.org/pandas-docs/stable/user_guide/indexing.html#returning-a-view-versus-a-copy\n",
      "  self._setitem_single_block(indexer, value, name)\n"
     ]
    }
   ],
   "source": [
    "#Now let filter all the vlaue into three main values (male, female, other)\n",
    "\n",
    "df.Gender.loc[df.Gender.isin(male)]= 'male'\n",
    "df.Gender.loc[df.Gender.isin(female)]= 'female'\n",
    "df.Gender.loc[df.Gender.isin(other)]= 'other'"
   ]
  },
  {
   "cell_type": "code",
   "execution_count": 22,
   "id": "def9d970",
   "metadata": {},
   "outputs": [
    {
     "data": {
      "text/plain": [
       "array(['female', 'male', 'other'], dtype=object)"
      ]
     },
     "execution_count": 22,
     "metadata": {},
     "output_type": "execute_result"
    }
   ],
   "source": [
    "df.Gender.unique()"
   ]
  },
  {
   "cell_type": "code",
   "execution_count": 23,
   "id": "60864e1a",
   "metadata": {},
   "outputs": [
    {
     "data": {
      "text/html": [
       "<div>\n",
       "<style scoped>\n",
       "    .dataframe tbody tr th:only-of-type {\n",
       "        vertical-align: middle;\n",
       "    }\n",
       "\n",
       "    .dataframe tbody tr th {\n",
       "        vertical-align: top;\n",
       "    }\n",
       "\n",
       "    .dataframe thead th {\n",
       "        text-align: right;\n",
       "    }\n",
       "</style>\n",
       "<table border=\"1\" class=\"dataframe\">\n",
       "  <thead>\n",
       "    <tr style=\"text-align: right;\">\n",
       "      <th></th>\n",
       "      <th>Age</th>\n",
       "      <th>Gender</th>\n",
       "      <th>Country</th>\n",
       "      <th>self_employed</th>\n",
       "      <th>family_history</th>\n",
       "      <th>treatment</th>\n",
       "      <th>work_interfere</th>\n",
       "      <th>no_employees</th>\n",
       "      <th>remote_work</th>\n",
       "      <th>tech_company</th>\n",
       "      <th>...</th>\n",
       "      <th>anonymity</th>\n",
       "      <th>leave</th>\n",
       "      <th>mental_health_consequence</th>\n",
       "      <th>phys_health_consequence</th>\n",
       "      <th>coworkers</th>\n",
       "      <th>supervisor</th>\n",
       "      <th>mental_health_interview</th>\n",
       "      <th>phys_health_interview</th>\n",
       "      <th>mental_vs_physical</th>\n",
       "      <th>obs_consequence</th>\n",
       "    </tr>\n",
       "  </thead>\n",
       "  <tbody>\n",
       "    <tr>\n",
       "      <th>0</th>\n",
       "      <td>37</td>\n",
       "      <td>female</td>\n",
       "      <td>United States</td>\n",
       "      <td>NaN</td>\n",
       "      <td>No</td>\n",
       "      <td>Yes</td>\n",
       "      <td>Often</td>\n",
       "      <td>6-25</td>\n",
       "      <td>No</td>\n",
       "      <td>Yes</td>\n",
       "      <td>...</td>\n",
       "      <td>Yes</td>\n",
       "      <td>Somewhat easy</td>\n",
       "      <td>No</td>\n",
       "      <td>No</td>\n",
       "      <td>Some of them</td>\n",
       "      <td>Yes</td>\n",
       "      <td>No</td>\n",
       "      <td>Maybe</td>\n",
       "      <td>Yes</td>\n",
       "      <td>No</td>\n",
       "    </tr>\n",
       "    <tr>\n",
       "      <th>1</th>\n",
       "      <td>44</td>\n",
       "      <td>male</td>\n",
       "      <td>United States</td>\n",
       "      <td>NaN</td>\n",
       "      <td>No</td>\n",
       "      <td>No</td>\n",
       "      <td>Rarely</td>\n",
       "      <td>More than 1000</td>\n",
       "      <td>No</td>\n",
       "      <td>No</td>\n",
       "      <td>...</td>\n",
       "      <td>Don't know</td>\n",
       "      <td>Don't know</td>\n",
       "      <td>Maybe</td>\n",
       "      <td>No</td>\n",
       "      <td>No</td>\n",
       "      <td>No</td>\n",
       "      <td>No</td>\n",
       "      <td>No</td>\n",
       "      <td>Don't know</td>\n",
       "      <td>No</td>\n",
       "    </tr>\n",
       "    <tr>\n",
       "      <th>3</th>\n",
       "      <td>31</td>\n",
       "      <td>male</td>\n",
       "      <td>United Kingdom</td>\n",
       "      <td>NaN</td>\n",
       "      <td>Yes</td>\n",
       "      <td>Yes</td>\n",
       "      <td>Often</td>\n",
       "      <td>26-100</td>\n",
       "      <td>No</td>\n",
       "      <td>Yes</td>\n",
       "      <td>...</td>\n",
       "      <td>No</td>\n",
       "      <td>Somewhat difficult</td>\n",
       "      <td>Yes</td>\n",
       "      <td>Yes</td>\n",
       "      <td>Some of them</td>\n",
       "      <td>No</td>\n",
       "      <td>Maybe</td>\n",
       "      <td>Maybe</td>\n",
       "      <td>No</td>\n",
       "      <td>Yes</td>\n",
       "    </tr>\n",
       "    <tr>\n",
       "      <th>4</th>\n",
       "      <td>31</td>\n",
       "      <td>male</td>\n",
       "      <td>United States</td>\n",
       "      <td>NaN</td>\n",
       "      <td>No</td>\n",
       "      <td>No</td>\n",
       "      <td>Never</td>\n",
       "      <td>100-500</td>\n",
       "      <td>Yes</td>\n",
       "      <td>Yes</td>\n",
       "      <td>...</td>\n",
       "      <td>Don't know</td>\n",
       "      <td>Don't know</td>\n",
       "      <td>No</td>\n",
       "      <td>No</td>\n",
       "      <td>Some of them</td>\n",
       "      <td>Yes</td>\n",
       "      <td>Yes</td>\n",
       "      <td>Yes</td>\n",
       "      <td>Don't know</td>\n",
       "      <td>No</td>\n",
       "    </tr>\n",
       "    <tr>\n",
       "      <th>5</th>\n",
       "      <td>33</td>\n",
       "      <td>male</td>\n",
       "      <td>United States</td>\n",
       "      <td>NaN</td>\n",
       "      <td>Yes</td>\n",
       "      <td>No</td>\n",
       "      <td>Sometimes</td>\n",
       "      <td>6-25</td>\n",
       "      <td>No</td>\n",
       "      <td>Yes</td>\n",
       "      <td>...</td>\n",
       "      <td>Don't know</td>\n",
       "      <td>Don't know</td>\n",
       "      <td>No</td>\n",
       "      <td>No</td>\n",
       "      <td>Yes</td>\n",
       "      <td>Yes</td>\n",
       "      <td>No</td>\n",
       "      <td>Maybe</td>\n",
       "      <td>Don't know</td>\n",
       "      <td>No</td>\n",
       "    </tr>\n",
       "  </tbody>\n",
       "</table>\n",
       "<p>5 rows × 24 columns</p>\n",
       "</div>"
      ],
      "text/plain": [
       "   Age  Gender         Country self_employed family_history treatment  \\\n",
       "0   37  female   United States           NaN             No       Yes   \n",
       "1   44    male   United States           NaN             No        No   \n",
       "3   31    male  United Kingdom           NaN            Yes       Yes   \n",
       "4   31    male   United States           NaN             No        No   \n",
       "5   33    male   United States           NaN            Yes        No   \n",
       "\n",
       "  work_interfere    no_employees remote_work tech_company  ...   anonymity  \\\n",
       "0          Often            6-25          No          Yes  ...         Yes   \n",
       "1         Rarely  More than 1000          No           No  ...  Don't know   \n",
       "3          Often          26-100          No          Yes  ...          No   \n",
       "4          Never         100-500         Yes          Yes  ...  Don't know   \n",
       "5      Sometimes            6-25          No          Yes  ...  Don't know   \n",
       "\n",
       "                leave mental_health_consequence phys_health_consequence  \\\n",
       "0       Somewhat easy                        No                      No   \n",
       "1          Don't know                     Maybe                      No   \n",
       "3  Somewhat difficult                       Yes                     Yes   \n",
       "4          Don't know                        No                      No   \n",
       "5          Don't know                        No                      No   \n",
       "\n",
       "      coworkers supervisor mental_health_interview phys_health_interview  \\\n",
       "0  Some of them        Yes                      No                 Maybe   \n",
       "1            No         No                      No                    No   \n",
       "3  Some of them         No                   Maybe                 Maybe   \n",
       "4  Some of them        Yes                     Yes                   Yes   \n",
       "5           Yes        Yes                      No                 Maybe   \n",
       "\n",
       "  mental_vs_physical obs_consequence  \n",
       "0                Yes              No  \n",
       "1         Don't know              No  \n",
       "3                 No             Yes  \n",
       "4         Don't know              No  \n",
       "5         Don't know              No  \n",
       "\n",
       "[5 rows x 24 columns]"
      ]
     },
     "execution_count": 23,
     "metadata": {},
     "output_type": "execute_result"
    }
   ],
   "source": [
    "df.head()"
   ]
  },
  {
   "cell_type": "code",
   "execution_count": 24,
   "id": "61557d4a",
   "metadata": {},
   "outputs": [
    {
     "data": {
      "text/plain": [
       "male      711\n",
       "female    205\n",
       "other      13\n",
       "Name: Gender, dtype: int64"
      ]
     },
     "execution_count": 24,
     "metadata": {},
     "output_type": "execute_result"
    }
   ],
   "source": [
    "df.Gender.value_counts()"
   ]
  },
  {
   "cell_type": "markdown",
   "id": "a48002b1",
   "metadata": {},
   "source": [
    "#### Missing values (nulls)\n",
    "As we mentioned before, we dropped 'comments' and 'state' columnns because they contain irrelevent data. However, the dataset still contains some missing value which can lead to have bias in our result. As a next step is to handle the missing data.\n"
   ]
  },
  {
   "cell_type": "code",
   "execution_count": 25,
   "id": "cd0d84ac",
   "metadata": {},
   "outputs": [
    {
     "data": {
      "text/html": [
       "<div>\n",
       "<style scoped>\n",
       "    .dataframe tbody tr th:only-of-type {\n",
       "        vertical-align: middle;\n",
       "    }\n",
       "\n",
       "    .dataframe tbody tr th {\n",
       "        vertical-align: top;\n",
       "    }\n",
       "\n",
       "    .dataframe thead th {\n",
       "        text-align: right;\n",
       "    }\n",
       "</style>\n",
       "<table border=\"1\" class=\"dataframe\">\n",
       "  <thead>\n",
       "    <tr style=\"text-align: right;\">\n",
       "      <th></th>\n",
       "      <th>Total</th>\n",
       "      <th>Percentage</th>\n",
       "    </tr>\n",
       "  </thead>\n",
       "  <tbody>\n",
       "    <tr>\n",
       "      <th>work_interfere</th>\n",
       "      <td>186</td>\n",
       "      <td>20.02</td>\n",
       "    </tr>\n",
       "    <tr>\n",
       "      <th>self_employed</th>\n",
       "      <td>13</td>\n",
       "      <td>1.40</td>\n",
       "    </tr>\n",
       "    <tr>\n",
       "      <th>Age</th>\n",
       "      <td>0</td>\n",
       "      <td>0.00</td>\n",
       "    </tr>\n",
       "    <tr>\n",
       "      <th>seek_help</th>\n",
       "      <td>0</td>\n",
       "      <td>0.00</td>\n",
       "    </tr>\n",
       "    <tr>\n",
       "      <th>mental_vs_physical</th>\n",
       "      <td>0</td>\n",
       "      <td>0.00</td>\n",
       "    </tr>\n",
       "    <tr>\n",
       "      <th>phys_health_interview</th>\n",
       "      <td>0</td>\n",
       "      <td>0.00</td>\n",
       "    </tr>\n",
       "    <tr>\n",
       "      <th>mental_health_interview</th>\n",
       "      <td>0</td>\n",
       "      <td>0.00</td>\n",
       "    </tr>\n",
       "    <tr>\n",
       "      <th>supervisor</th>\n",
       "      <td>0</td>\n",
       "      <td>0.00</td>\n",
       "    </tr>\n",
       "    <tr>\n",
       "      <th>coworkers</th>\n",
       "      <td>0</td>\n",
       "      <td>0.00</td>\n",
       "    </tr>\n",
       "    <tr>\n",
       "      <th>phys_health_consequence</th>\n",
       "      <td>0</td>\n",
       "      <td>0.00</td>\n",
       "    </tr>\n",
       "    <tr>\n",
       "      <th>mental_health_consequence</th>\n",
       "      <td>0</td>\n",
       "      <td>0.00</td>\n",
       "    </tr>\n",
       "    <tr>\n",
       "      <th>leave</th>\n",
       "      <td>0</td>\n",
       "      <td>0.00</td>\n",
       "    </tr>\n",
       "    <tr>\n",
       "      <th>anonymity</th>\n",
       "      <td>0</td>\n",
       "      <td>0.00</td>\n",
       "    </tr>\n",
       "    <tr>\n",
       "      <th>wellness_program</th>\n",
       "      <td>0</td>\n",
       "      <td>0.00</td>\n",
       "    </tr>\n",
       "    <tr>\n",
       "      <th>Gender</th>\n",
       "      <td>0</td>\n",
       "      <td>0.00</td>\n",
       "    </tr>\n",
       "    <tr>\n",
       "      <th>care_options</th>\n",
       "      <td>0</td>\n",
       "      <td>0.00</td>\n",
       "    </tr>\n",
       "    <tr>\n",
       "      <th>benefits</th>\n",
       "      <td>0</td>\n",
       "      <td>0.00</td>\n",
       "    </tr>\n",
       "    <tr>\n",
       "      <th>tech_company</th>\n",
       "      <td>0</td>\n",
       "      <td>0.00</td>\n",
       "    </tr>\n",
       "    <tr>\n",
       "      <th>remote_work</th>\n",
       "      <td>0</td>\n",
       "      <td>0.00</td>\n",
       "    </tr>\n",
       "    <tr>\n",
       "      <th>no_employees</th>\n",
       "      <td>0</td>\n",
       "      <td>0.00</td>\n",
       "    </tr>\n",
       "    <tr>\n",
       "      <th>treatment</th>\n",
       "      <td>0</td>\n",
       "      <td>0.00</td>\n",
       "    </tr>\n",
       "    <tr>\n",
       "      <th>family_history</th>\n",
       "      <td>0</td>\n",
       "      <td>0.00</td>\n",
       "    </tr>\n",
       "    <tr>\n",
       "      <th>Country</th>\n",
       "      <td>0</td>\n",
       "      <td>0.00</td>\n",
       "    </tr>\n",
       "    <tr>\n",
       "      <th>obs_consequence</th>\n",
       "      <td>0</td>\n",
       "      <td>0.00</td>\n",
       "    </tr>\n",
       "  </tbody>\n",
       "</table>\n",
       "</div>"
      ],
      "text/plain": [
       "                           Total  Percentage\n",
       "work_interfere               186       20.02\n",
       "self_employed                 13        1.40\n",
       "Age                            0        0.00\n",
       "seek_help                      0        0.00\n",
       "mental_vs_physical             0        0.00\n",
       "phys_health_interview          0        0.00\n",
       "mental_health_interview        0        0.00\n",
       "supervisor                     0        0.00\n",
       "coworkers                      0        0.00\n",
       "phys_health_consequence        0        0.00\n",
       "mental_health_consequence      0        0.00\n",
       "leave                          0        0.00\n",
       "anonymity                      0        0.00\n",
       "wellness_program               0        0.00\n",
       "Gender                         0        0.00\n",
       "care_options                   0        0.00\n",
       "benefits                       0        0.00\n",
       "tech_company                   0        0.00\n",
       "remote_work                    0        0.00\n",
       "no_employees                   0        0.00\n",
       "treatment                      0        0.00\n",
       "family_history                 0        0.00\n",
       "Country                        0        0.00\n",
       "obs_consequence                0        0.00"
      ]
     },
     "execution_count": 25,
     "metadata": {},
     "output_type": "execute_result"
    }
   ],
   "source": [
    "total_nulls = df.isnull().sum().sort_values(ascending=False)\n",
    "perc_nulls = round((total_nulls*100)/len(df),2)\n",
    "nulls = pd.concat([total_nulls, perc_nulls], axis=1, keys=['Total','Percentage'])\n",
    "nulls"
   ]
  },
  {
   "cell_type": "code",
   "execution_count": 26,
   "id": "1775373f",
   "metadata": {},
   "outputs": [
    {
     "data": {
      "text/plain": [
       "array(['Often', 'Rarely', 'Never', 'Sometimes', nan], dtype=object)"
      ]
     },
     "execution_count": 26,
     "metadata": {},
     "output_type": "execute_result"
    }
   ],
   "source": [
    "df.work_interfere.unique()"
   ]
  },
  {
   "cell_type": "code",
   "execution_count": 27,
   "id": "bc10338c",
   "metadata": {},
   "outputs": [
    {
     "data": {
      "text/plain": [
       "Sometimes    359\n",
       "Never        155\n",
       "Rarely       132\n",
       "Often         97\n",
       "Name: work_interfere, dtype: int64"
      ]
     },
     "execution_count": 27,
     "metadata": {},
     "output_type": "execute_result"
    }
   ],
   "source": [
    "df.work_interfere.value_counts()"
   ]
  },
  {
   "cell_type": "markdown",
   "id": "089904ae",
   "metadata": {},
   "source": []
  },
  {
   "cell_type": "code",
   "execution_count": 28,
   "id": "c260438c",
   "metadata": {},
   "outputs": [],
   "source": [
    "#Since 'work_interfere' column has 20% of missing values, we will replace null values with 'NA'.\n",
    "df['work_interfere'].fillna('NA',inplace=True)"
   ]
  },
  {
   "cell_type": "code",
   "execution_count": 29,
   "id": "cf556251",
   "metadata": {},
   "outputs": [
    {
     "data": {
      "text/plain": [
       "Sometimes    359\n",
       "NA           186\n",
       "Never        155\n",
       "Rarely       132\n",
       "Often         97\n",
       "Name: work_interfere, dtype: int64"
      ]
     },
     "execution_count": 29,
     "metadata": {},
     "output_type": "execute_result"
    }
   ],
   "source": [
    "df.work_interfere.value_counts()"
   ]
  },
  {
   "cell_type": "markdown",
   "id": "c04dcea7",
   "metadata": {},
   "source": [
    "'self_employed' column also contains some missing values. Before handling those missing values, we need first to have a look at 'self_employed' column to see which type of values we are dealing with."
   ]
  },
  {
   "cell_type": "code",
   "execution_count": 30,
   "id": "b70ac43f",
   "metadata": {},
   "outputs": [
    {
     "data": {
      "text/plain": [
       "array([nan, 'Yes', 'No'], dtype=object)"
      ]
     },
     "execution_count": 30,
     "metadata": {},
     "output_type": "execute_result"
    }
   ],
   "source": [
    "df.self_employed.unique()"
   ]
  },
  {
   "cell_type": "code",
   "execution_count": 31,
   "id": "170b2463",
   "metadata": {},
   "outputs": [
    {
     "data": {
      "text/plain": [
       "No     834\n",
       "Yes     82\n",
       "Name: self_employed, dtype: int64"
      ]
     },
     "execution_count": 31,
     "metadata": {},
     "output_type": "execute_result"
    }
   ],
   "source": [
    "df.self_employed.value_counts()"
   ]
  },
  {
   "cell_type": "code",
   "execution_count": 32,
   "id": "26725299",
   "metadata": {},
   "outputs": [
    {
     "data": {
      "text/plain": [
       "13"
      ]
     },
     "execution_count": 32,
     "metadata": {},
     "output_type": "execute_result"
    }
   ],
   "source": [
    "df.self_employed.isna().sum()"
   ]
  },
  {
   "cell_type": "code",
   "execution_count": 33,
   "id": "6ce21de4",
   "metadata": {},
   "outputs": [],
   "source": [
    "#Since we have only 18 null vlaues in 'self_employed' column, we will convert all the nulls to 'No'.\n",
    "df.self_employed.fillna('No',inplace=True)"
   ]
  },
  {
   "cell_type": "code",
   "execution_count": 34,
   "id": "4a9496c4",
   "metadata": {},
   "outputs": [
    {
     "data": {
      "text/plain": [
       "No     847\n",
       "Yes     82\n",
       "Name: self_employed, dtype: int64"
      ]
     },
     "execution_count": 34,
     "metadata": {},
     "output_type": "execute_result"
    }
   ],
   "source": [
    "df.self_employed.value_counts()"
   ]
  },
  {
   "cell_type": "markdown",
   "id": "f63481c4",
   "metadata": {},
   "source": [
    "### Data Exploration\n",
    "#### Treatment Responds"
   ]
  },
  {
   "cell_type": "code",
   "execution_count": 35,
   "id": "f03dcfbd",
   "metadata": {},
   "outputs": [],
   "source": [
    "import seaborn as sns\n",
    "import matplotlib.pyplot as plt\n",
    "%matplotlib inline"
   ]
  },
  {
   "cell_type": "code",
   "execution_count": 36,
   "id": "9b8c1de8",
   "metadata": {},
   "outputs": [
    {
     "data": {
      "image/png": "[encoded data removed]",
      "text/plain": [
       "<Figure size 576x360 with 1 Axes>"
      ]
     },
     "metadata": {},
     "output_type": "display_data"
    }
   ],
   "source": [
    "sns.set_style('whitegrid')\n",
    "plt.figure(figsize=(8,5))\n",
    "plt.title('Get Treatment of Survey Responds',fontsize=18, fontweight='bold')\n",
    "res_percentage = (df['treatment'].value_counts(normalize=True).rename_axis('treatment').reset_index(name='Percentage'))\n",
    "ax = sns.barplot(x='treatment',y='Percentage', data=res_percentage.head(10), palette='deep')\n",
    "for p in ax.patches:\n",
    "    width = p.get_width()\n",
    "    height = p.get_height()\n",
    "    x, y = p.get_xy() \n",
    "    ax.annotate(f'{height:.0%}', (x + width/2, y + height*1.02), ha='center', fontweight='bold')"
   ]
  },
  {
   "cell_type": "markdown",
   "id": "6fcf186a",
   "metadata": {},
   "source": [
    "#### Result Discussion\n",
    "The first step after cleaning data is to explore the ‘treatment’ column. This column answers the question of “Have you got treatment for a mental health condition”. As a result, we found 56% of employees who are getting mental health treatment, and 46% not getting any mental health treatment. These result shows that tech workplace should promote mental health and support employees with mental health issues. In fact, some studies show that poor mental health can negatively affect employees in different ways such as job performance, productivity, and communication among workers. Our next step is to investigate in the different factors that leading employees want to get mental health treatment.\n",
    "\n",
    "#### Respondents' Demograhics and Geographics"
   ]
  },
  {
   "cell_type": "code",
   "execution_count": 37,
   "id": "6fbb0608",
   "metadata": {},
   "outputs": [
    {
     "data": {
      "image/png": "[encoded data removed]",
      "text/plain": [
       "<Figure size 1440x360 with 2 Axes>"
      ]
     },
     "metadata": {},
     "output_type": "display_data"
    },
    {
     "data": {
      "text/plain": [
       "<Figure size 1152x288 with 0 Axes>"
      ]
     },
     "metadata": {},
     "output_type": "display_data"
    }
   ],
   "source": [
    "fig, (ax1, ax2) = plt.subplots(nrows=1, ncols=2)\n",
    "plt.figure(figsize = (16,4))\n",
    "fig.set_figheight(5)\n",
    "fig.set_figwidth(20)\n",
    "plt.subplots_adjust(wspace = 0)\n",
    "\n",
    "# No of respondents by Country\n",
    "sns.countplot(x = df['Country'], hue = df['tech_company'], ax=ax1, palette=\"deep\")\n",
    "ax1.set_title('No. of Respondents by Country and tech_company', fontsize = 20)\n",
    "ax1.set_xticklabels(ax1.get_xticklabels(), rotation=15, ha=\"right\")\n",
    "ax1.set_xlabel('Country', fontsize = 18)\n",
    "ax1.set_ylabel('Count', fontsize = 18)\n",
    "ax1.legend(['Not in Tech', 'In Tech'])\n",
    "\n",
    "# No of respondents by Company Size\n",
    "sns.countplot(x = df['no_employees'], hue = df['tech_company'], ax=ax2, \n",
    "              order = ['1-5', '6-25', '26-100', '100-500', '500-1000', '>1000'], palette=\"deep\")\n",
    "ax2.set_title('No. of Respondents by Company Size and tech_company', fontsize = 20)\n",
    "ax2.set_xticklabels(ax2.get_xticklabels(), rotation=15, ha=\"right\")\n",
    "ax2.set_xlabel('Company Size', fontsize = 18)\n",
    "ax2.set_ylabel('Count', fontsize = 18)\n",
    "ax2.legend(['Not in Tech', 'In Tech']);"
   ]
  },
  {
   "cell_type": "markdown",
   "id": "0ba5ca53",
   "metadata": {},
   "source": [
    "#### Result Discussion\n",
    "Majority of the respondents from the U.S and U.K are not in technology-based companies even they are working in tech positions. Most of these tech-based employees are from mid-size to large-size company.\n",
    "\n",
    "#### Distribution of Age"
   ]
  },
  {
   "cell_type": "code",
   "execution_count": 38,
   "id": "e4d2554e",
   "metadata": {},
   "outputs": [
    {
     "data": {
      "image/png": "[encoded data removed]",
      "text/plain": [
       "<Figure size 1440x720 with 1 Axes>"
      ]
     },
     "metadata": {},
     "output_type": "display_data"
    }
   ],
   "source": [
    "plt.figure(figsize = (20,10))\n",
    "sns.histplot(df['Age'],label = 'Skewness : %.2f'%(df['Age'].skew()),kde=True)\n",
    "plt.legend(loc = 0, fontsize = 10)\n",
    "plt.title('Distribution for Age of Survey Respondents')\n",
    "\n",
    "plt.show()"
   ]
  },
  {
   "cell_type": "markdown",
   "id": "af7fef5c",
   "metadata": {},
   "source": [
    "#### Result Discussion\n",
    "In this step, we want to know the distribution for the age of the survey responds by using histogram and boxplot. From the result, we found that the min age is 18 years old, and the oldest one is 65. The boxplot result indicates most of the survey responds around their mid-20s to early 40s. The distribution score of 0.90 means the data are highly positive right-skewed. The distribution of ages is right-skewed, which is expected as the tech industry tends to have younger employees. The distribution of ages is right-skewed, which is expected as the tech industry tends to have younger employees.To know more about skewness please visit this link: https://www.itl.nist.gov/div898/handbook/eda/section3/eda35b.htm"
   ]
  },
  {
   "cell_type": "code",
   "execution_count": null,
   "id": "c689e8da",
   "metadata": {},
   "outputs": [],
   "source": [
    "df.colu"
   ]
  }
 ],
 "metadata": {
  "kernelspec": {
   "display_name": "Python 3 (ipykernel)",
   "language": "python",
   "name": "python3"
  },
  "language_info": {
   "codemirror_mode": {
    "name": "ipython",
    "version": 3
   },
   "file_extension": ".py",
   "mimetype": "text/x-python",
   "name": "python",
   "nbconvert_exporter": "python",
   "pygments_lexer": "ipython3",
   "version": "3.10.0"
  }
 },
 "nbformat": 4,
 "nbformat_minor": 5
}
